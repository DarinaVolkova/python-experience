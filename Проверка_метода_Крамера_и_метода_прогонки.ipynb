{
 "cells": [
  {
   "cell_type": "markdown",
   "metadata": {},
   "source": [
    "Метод прогонки"
   ]
  },
  {
   "cell_type": "code",
   "execution_count": 1,
   "metadata": {},
   "outputs": [],
   "source": [
    "import math\n",
    "from scipy.linalg import solve\n",
    "import numpy as np "
   ]
  },
  {
   "cell_type": "code",
   "execution_count": 2,
   "metadata": {},
   "outputs": [],
   "source": [
    "#генерируем матрицу A и столбец b\n",
    "a = [[ 2, -1, 0, 0, 0],\n",
    "     [-3, 8, -1, 0, 0],\n",
    "     [ 0, -5, 12, 2, 0],\n",
    "     [ 0, 0, -6, 18,-4],\n",
    "     [ 0, 0, 0, -5, 10]]\n",
    " \n",
    "b = [-25, 72, -69, -156, 20]"
   ]
  },
  {
   "cell_type": "code",
   "execution_count": 4,
   "metadata": {},
   "outputs": [
    {
     "name": "stdout",
     "output_type": "stream",
     "text": [
      "Прогоночные коэффициенты alpha:  alpa [0.5, 0.15384615384615385, -0.17808219178082194, 0.20977011494252873, 0]\n",
      "Прогоночные коэффициенты beta:  beta [-12.5, 5.3076923076923075, -3.78082191780822, -9.370689655172413, -2.9999999999999996]\n",
      "Решение:  x [-10.0, 5.0, -2.000000000000001, -9.999999999999998, -2.9999999999999996]\n"
     ]
    }
   ],
   "source": [
    "# метод прогонки\n",
    "def solution(a, b):\n",
    "    n = len(a)\n",
    "    x = [0 for k in range(0, n)] # обнуление вектора решений\n",
    "    \n",
    "    # Прямой ход\n",
    "    alpha = [0 for k in range(0, n)]\n",
    "    beta = [0 for k in range(0, n)]\n",
    "    # для первой строки\n",
    "    alpha[0] = a[0][1] / (-a[0][0]) \n",
    "    beta[0] = ( - b[0]) / (-a[0][0]) \n",
    "    \n",
    "    for i in range(1, n - 1): # заполняем за исключением 1-й и (n-1)-й строк матрицы\n",
    "        alpha[i] = a[i][i+1] / ( -a[i][i] - a[i][i-1]*alpha[i-1] )\n",
    "        beta[i] = ( a[i][i-1]*beta[i-1] - b[i] ) / ( -a[i][i] - a[i][i-1]*alpha[i-1] )\n",
    "        \n",
    "    # для последней (n-1)-й строки\n",
    "    alpha[n-1] = 0\n",
    "    beta[n-1] = (a[n-1][n-2]*beta[n-2] - b[n-1]) / (-a[n-1][n-1] - a[n-1][n-2]*alpha[n-2])\n",
    "    \n",
    "    print('Прогоночные коэффициенты alpha: ','alpa', alpha)\n",
    "    print('Прогоночные коэффициенты beta: ','beta', beta)\n",
    "    \n",
    "    # Обратный ход\n",
    "    x[n-1] = beta[n-1]\n",
    "    for i in range(n-1, 0, -1):\n",
    "        x[i-1] = alpha[i-1] * x[i] + beta[i-1]\n",
    "        \n",
    "    return x    \n",
    "                \n",
    "x = solution(a, b)  # Вызываем процедуру решение\n",
    "print('Решение: ','x', x)"
   ]
  },
  {
   "cell_type": "markdown",
   "metadata": {},
   "source": [
    "Метод Крамера"
   ]
  },
  {
   "cell_type": "code",
   "execution_count": null,
   "metadata": {},
   "outputs": [],
   "source": [
    "import numpy as np\n",
    "from numpy import linalg \n",
    "A = np.array([[3, 5, 15], [4, 8, 9], [18, 12, 7]]) \n",
    "b = np.array([12, 13, 16])\n",
    "def Cramer(A,b): #Создание метод Крамера с помощью пользовательской функции\n",
    "    matrix = len(A) #определяем кол-во строк в матрице А\n",
    "    det = np.linalg.det(A) #вычисляем определитель матрицы А\n",
    "    result = list() #создаем пустой список, куда будут помещаться неизвестные\n",
    "    for i in range(matrix): \n",
    "        auxmat = np.copy(A) #создаем вспомогательную матрицу\n",
    "        auxmat[:,i] = b #присваиваем всем строкам i-столбца вектор свободных членов\n",
    "        result.append(np.linalg.det(auxmat)/det) #добавление в список элементов\n",
    "    return result\n",
    "x = Cramer(A,b) #вызов функции\n",
    "print(x)"
   ]
  }
 ],
 "metadata": {
  "kernelspec": {
   "display_name": "Python 3",
   "language": "python",
   "name": "python3"
  },
  "language_info": {
   "codemirror_mode": {
    "name": "ipython",
    "version": 3
   },
   "file_extension": ".py",
   "mimetype": "text/x-python",
   "name": "python",
   "nbconvert_exporter": "python",
   "pygments_lexer": "ipython3",
   "version": "3.8.5"
  }
 },
 "nbformat": 4,
 "nbformat_minor": 4
}
